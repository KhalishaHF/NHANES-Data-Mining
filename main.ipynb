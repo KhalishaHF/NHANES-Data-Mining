{
 "cells": [
  {
   "cell_type": "markdown",
   "id": "7c9d3f3c-fcf3-4482-a624-3d55a2d9c521",
   "metadata": {},
   "source": [
    "---\n",
    "title: \"NHANES (National Health and Nutrition Examination Survey) Data Mining Challenge\"\n",
    "format:\n",
    "  pdf:\n",
    "    code-block-bg: true\n",
    "    code-block-border-left: \"#4CAF50\"\n",
    "    code-block-font-size: 85%\n",
    "    code-copy: true\n",
    "    code-overflow: wrap\n",
    "    code-line-numbers: true\n",
    "    page-layout: wide\n",
    "    fig-align: center\n",
    "execute: true\n",
    "toc: true\n",
    "number-sections: true\n",
    "---\n"
   ]
  },
  {
   "cell_type": "markdown",
   "id": "67be294a-2063-488a-a471-77ad0a990e24",
   "metadata": {},
   "source": [
    "# SIT220 - Data Mining Challenge\n",
    "**Name** : Khalisha Hanan Fakhira\n",
    "\n",
    "\n",
    "**Student ID** : 224206393\n",
    "\n",
    "\n",
    "**Email** : s224206393@deakin.edu.au\n",
    "\n",
    "### Undergraduate SIT220"
   ]
  },
  {
   "cell_type": "markdown",
   "id": "cfd2f82b-0174-4642-8a1a-bf7712933628",
   "metadata": {},
   "source": [
    "# Introduction\n",
    "This report presents a data-driven analysis to explore key factors associated with diabetes diagnosis using the NHANES (National Health and Nutrition Examination Survey) datasets. The aim is to uncover patterns, evaluate feature significance, and identify influential variables related to diabetes risk through data cleaning, exploration, and modelling.\n",
    "\n",
    "By performing Exploratory Data Analysis (EDA) and visualising relationships between nutritional intake, body measurements, and glycohemoglobin levels, this report highlights how different health indicators may relate to diabetes occurrence.\n",
    "\n",
    "A Random Forest model is used as the primary predictive tool to evaluate the accuracy of the findings, ensuring both analytical depth and practical insights.\n",
    "\n"
   ]
  },
  {
   "cell_type": "markdown",
   "id": "3614e9d2-8192-4cb6-a0d2-14803f315bf7",
   "metadata": {},
   "source": [
    "## Importing Libraries and Datasets\n",
    "To start, I import essential libraries such as NumPy, Pandas, Bokeh, Scikit-learn, SciPy, and Statsmodels for data manipulation, visualization, and statistical modelling. I then proceed to load the relevant datasets from the NHANES 2017–2023 collection for analysis."
   ]
  },
  {
   "cell_type": "code",
   "execution_count": null,
   "id": "de24ad70-0d96-451b-bef7-2b06aaa1284c",
   "metadata": {},
   "outputs": [],
   "source": [
    "# Basic Handling\n",
    "import pandas as pd\n",
    "import numpy as np\n",
    "import panel as on\n",
    "from IPython.display import Image\n",
    "import matplotlib.pyplot as plt\n",
    "import seaborn as sns\n",
    "from pandas.plotting import parallel_coordinates\n",
    "\n",
    "# Bokeh Visualisation\n",
    "from bokeh.plotting import figure, show, output_notebook\n",
    "from bokeh.models import ColumnDataSource,  MultiLine, Select, HoverTool, DataTable, TableColumn, Whisker, LinearColorMapper, ColorBar, BasicTicker, PrintfTickFormatter\n",
    "from bokeh.layouts import row, column\n",
    "from bokeh.palettes import Category10\n",
    "from bokeh.models import Whisker\n",
    "from bokeh.models import Div\n",
    "from bokeh.plotting import figure, show\n",
    "from bokeh.transform import dodge\n",
    "from bokeh.plotting import figure, show\n",
    "from bokeh.transform import linear_cmap\n",
    "from bokeh.palettes import Blues256\n",
    "from bokeh.plotting import figure\n",
    "from bokeh.io import output_notebook\n",
    "from bokeh.transform import factor_cmap\n",
    "from bokeh.transform import transform\n",
    "from bokeh.palettes import  Blues256\n",
    "from bokeh.models import ColumnDataSource, Slider, CustomJS\n",
    "\n",
    "# Statistical Test and build model\n",
    "from scipy.stats import ttest_ind, pearsonr, chi2_contingency\n",
    "from scipy.stats import f_oneway\n",
    "import statsmodels.api as sm\n",
    "from sklearn.impute import SimpleImputer\n",
    "from sklearn.model_selection import train_test_split\n",
    "from sklearn.linear_model import LinearRegression\n",
    "from sklearn.ensemble import RandomForestClassifier\n",
    "from sklearn.metrics import mean_squared_error, mean_absolute_error, r2_score\n",
    "from sklearn.metrics import accuracy_score\n",
    "from sklearn.metrics import confusion_matrix, ConfusionMatrixDisplay\n",
    "from sklearn.preprocessing import MinMaxScaler\n",
    "from sklearn.preprocessing import StandardScaler\n",
    "from sklearn.ensemble import RandomForestClassifier\n",
    "from sklearn.metrics import classification_report, confusion_matrix\n",
    "from imblearn.over_sampling import SMOTE\n",
    "from statsmodels.miscmodels.ordinal_model import OrderedModel\n",
    "from sklearn.metrics import classification_report, confusion_matrix\n",
    "\n",
    "#PNG Bokeh\n",
    "from bokeh.io.export import export_png\n",
    "import chromedriver_autoinstaller\n",
    "from selenium import webdriver\n",
    "from selenium.webdriver.chrome.service import Service\n",
    "from bokeh.io.webdriver import create_chromium_webdriver"
   ]
  },
  {
   "cell_type": "code",
   "execution_count": null,
   "id": "2c72e8d1-8c12-4621-809e-9c9d7cd167fb",
   "metadata": {},
   "outputs": [],
   "source": [
    "# 2017-2020 datasets.\n",
    "demo_17_20  = pd.read_sas(\"D:\\Year 1\\SIT220 Data Wrangling\\HD\\P_DEMO.XPT\", format='xport')\n",
    "diet_17_20  = pd.read_sas(\"D:\\Year 1\\SIT220 Data Wrangling\\HD\\P_DR1TOT.XPT\", format='xport')\n",
    "exam_17_20  = pd.read_sas(\"D:\\Year 1\\SIT220 Data Wrangling\\HD\\P_BMX.XPT\", format='xport')\n",
    "glo_17_20   = pd.read_sas(\"D:\\Year 1\\SIT220 Data Wrangling\\HD\\P_GHB.XPT\", format='xport')\n",
    "diabetes_17_20 = pd.read_sas(\"D:\\Year 1\\SIT220 Data Wrangling\\HD\\P_DIQ.XPT\", format='xport')\n",
    "\n",
    "# 2021-2023 datasets.\n",
    "demo_21_23  = pd.read_sas(\"D:\\Year 1\\SIT220 Data Wrangling\\HD\\DEMO_L.XPT\", format='xport')\n",
    "diet_21_23  = pd.read_sas(\"D:\\Year 1\\SIT220 Data Wrangling\\HD\\DR1TOT_L.XPT\", format='xport')\n",
    "exam_21_23  = pd.read_sas(\"D:\\Year 1\\SIT220 Data Wrangling\\HD\\BMX_L.XPT\", format='xport')\n",
    "glo_21_23   = pd.read_sas(\"D:\\Year 1\\SIT220 Data Wrangling\\HD\\GHB_L.XPT\", format='xport')\n",
    "diabetes_21_23 = pd.read_sas(\"D:\\Year 1\\SIT220 Data Wrangling\\HD\\DIQ_L.XPT\", format='xport')"
   ]
  },
  {
   "cell_type": "markdown",
   "id": "dccdcb8e-3387-4392-b919-a3354889c07e",
   "metadata": {},
   "source": [
    "## Dataset Merging and Integration\n",
    "Next, I combine multiple NHANES datasets from different domains demographics, diet, examination, global health, and diabetes spanning the years 2017 to 2023. These datasets are merged on the common identifier SEQN using inner joins to retain only participants with complete records across all domains. The resulting merged dataset contains 17608 rows and 259 columns for subsequent analysis."
   ]
  },
  {
   "cell_type": "code",
   "execution_count": null,
   "id": "a79980dd-a782-4fb2-9423-8c0fa6daa931",
   "metadata": {},
   "outputs": [],
   "source": [
    "#Combine the datasets\n",
    "demo_all  = pd.concat([demo_17_20, demo_21_23], ignore_index=True)\n",
    "diet_all  = pd.concat([diet_17_20, diet_21_23], ignore_index=True)\n",
    "exam_all  = pd.concat([exam_17_20, exam_21_23], ignore_index=True)\n",
    "glo_all   = pd.concat([glo_17_20, glo_21_23], ignore_index=True)\n",
    "diabetes_all = pd.concat([diabetes_17_20, diabetes_21_23], ignore_index=True)\n",
    "\n",
    "#Merge the datasets\n",
    "# Merge them using SEQN as the key\n",
    "merged_df = demo_all.merge(diet_all, on='SEQN', how='inner') \\\n",
    "                    .merge(exam_all, on='SEQN', how='inner') \\\n",
    "                    .merge(glo_all, on='SEQN', how='inner') \\\n",
    "                    .merge(diabetes_all, on='SEQN', how='inner')\n",
    "\n",
    "print(\"Merged dataset shape:\", merged_df.shape)\n",
    "merged_df.head()\n"
   ]
  },
  {
   "cell_type": "markdown",
   "id": "1d74e9dd-9aa4-4bba-bb98-1c845ece4aca",
   "metadata": {},
   "source": [
    "## Variable Selection and Label Decoding\n",
    "To focus the analysis on relevant attributes, I first selected a subset of variables critical to the study. These include demographic details (e.g., age, gender, education), dietary intake, and biomarkers such as Glycohemoglobin. Once selected, I applied a renaming dictionary to convert technical column names into more interpretable labels for ease of reference throughout the report. This enhances both readability and interpretability for broader audiences."
   ]
  },
  {
   "cell_type": "code",
   "execution_count": null,
   "id": "edf6cf72-f609-4c61-8fb8-c41dd200ef6a",
   "metadata": {},
   "outputs": [],
   "source": [
    "target_cols = [\n",
    "    \"DIQ010\", \"RIAGENDR\", \"RIDAGEYR\", \"RIDRETH1\", \"DMDEDUC2\", \"INDFMPIR\",\n",
    "    \"DR1TKCAL\", \"DR1TPROT\", \"DR1TTFAT\", \"DR1TCARB\", \"DR1TSUGR\", \"DR1TFIBE\", \"DR1TSODI\",\n",
    "    \"BMXBMI\", \"BMXWT\", \"BMXHT\", \"BMXWAIST\", \"LBXGLU\", \"LBXGH\"\n",
    "]\n",
    "\n",
    "rename_dict = {\n",
    "    \"DIQ010\": \"Told_to_have_Diabetes\",\n",
    "    \"RIAGENDR\": \"Gender\",\n",
    "    \"RIDAGEYR\": \"Age\",\n",
    "    \"RIDRETH1\": \"Race_Ethnicity\",\n",
    "    \"DMDEDUC2\": \"Education_Level\",\n",
    "    \"INDFMPIR\": \"Poverty_Income_Ratio\",\n",
    "    \"DR1TKCAL\": \"Energy_Intake\",\n",
    "    \"DR1TPROT\": \"Protein\",\n",
    "    \"DR1TTFAT\": \"Total_Fat\",\n",
    "    \"DR1TCARB\": \"Carbohydrates\",\n",
    "    \"DR1TSUGR\": \"Total_Sugars\",\n",
    "    \"DR1TFIBE\": \"Dietary_Fiber\",\n",
    "    \"DR1TSODI\": \"Sodium\",\n",
    "    \"BMXBMI\": \"BMI\",\n",
    "    \"BMXWT\": \"Weight_kg\",\n",
    "    \"BMXHT\": \"Height_cm\",\n",
    "    \"BMXWAIST\": \"Waist_Circumference\",\n",
    "    \"LBXGH\": \"Glycohemoglobin\",\n",
    "}\n",
    "\n",
    "available_cols = [col for col in target_cols if col in merged_df.columns]\n",
    "filtered_df = merged_df[available_cols]\n",
    "\n",
    "available_renames = {k: v for k, v in rename_dict.items() if k in filtered_df.columns}\n",
    "filtered_df.rename(columns=available_renames, inplace=True)\n",
    "\n",
    "print(\"Decoded-columns Dataframe:\")\n",
    "display(filtered_df.head())\n",
    "print(\"Shape:\", filtered_df.shape)\n"
   ]
  },
  {
   "cell_type": "markdown",
   "id": "6d59a360-cbe6-4122-be67-8ea86db7f9db",
   "metadata": {},
   "source": [
    "## Missing Values Overview\n",
    "Before performing any statistical operations, I examined the dataset for missing values. Several columns, such as Education_Level, Carbohydrates, and other dietary intake features, were found to contain missing values ranging from approximately 13% to 17%. Fortunately, key categorical features like Gender, Race_Ethnicity, and the target variable Told_to_have_Diabetes had no missing data. Identifying this helps guide the imputation strategy applied in the next step of data wrangling."
   ]
  },
  {
   "cell_type": "code",
   "execution_count": null,
   "id": "742a47cc-26c1-4b9f-895e-807122b96e79",
   "metadata": {},
   "outputs": [],
   "source": [
    "missing_values = filtered_df.isnull().sum()\n",
    "missing_percent = (missing_values / len(filtered_df)) * 100\n",
    "\n",
    "missing_df = pd.DataFrame({'Missing Values': missing_values, 'Percent (%)': missing_percent})\n",
    "display(missing_df.sort_values(by='Percent (%)', ascending=False))\n"
   ]
  },
  {
   "cell_type": "markdown",
   "id": "6c5a589a-ed74-47a3-a0ad-80a6f6c013bf",
   "metadata": {},
   "source": [
    "## Handling Missing Values\n",
    "To address the missing values, I began by removing the Education_Level column, which had the highest proportion of null entries and was deemed less critical for this analysis. Following that, I selected only the numeric columns from the dataset to prepare them for imputation.\n",
    "\n",
    "Using SimpleImputer with a mean strategy, I filled in the missing values for these numeric variables. This ensures the continuity of data while maintaining overall statistical integrity."
   ]
  },
  {
   "cell_type": "code",
   "execution_count": null,
   "id": "55495eff-1caf-4d86-ab2f-1a0e9a4d0a2c",
   "metadata": {},
   "outputs": [],
   "source": [
    "filtered_df.drop(columns=[\"Education_Level\"], inplace=True)"
   ]
  },
  {
   "cell_type": "code",
   "execution_count": null,
   "id": "0a1d0325-ebf2-4fc4-919a-09572532acf8",
   "metadata": {},
   "outputs": [],
   "source": [
    "# Select only numeric columns\n",
    "num_cols = filtered_df.select_dtypes(include=[\"float64\", \"int64\"]).columns\n",
    "\n",
    "# Create imputer\n",
    "imputer = SimpleImputer(strategy=\"mean\")\n",
    "\n",
    "# Apply imputation\n",
    "filtered_df[num_cols] = imputer.fit_transform(filtered_df[num_cols])"
   ]
  },
  {
   "cell_type": "markdown",
   "id": "4eadeb67-672f-4646-84da-3a631ee63822",
   "metadata": {},
   "source": [
    "## Validating Data Integrity\n",
    "Following imputation, I verified that no missing values remained within the dataset, confirming that the data was now complete and ready for modeling. Subsequently, I reviewed the data types to ensure consistency and found that all selected variables were of numeric type, which is essential for most machine learning algorithms.\n",
    "\n",
    "To finalise this step, I checked for and removed any duplicate rows. The dataset contained no such duplicates, ensuring that the data used in the next stages of analysis was clean and free from redundancy."
   ]
  },
  {
   "cell_type": "code",
   "execution_count": null,
   "id": "0deed0b8-99ef-485f-9c58-8a5d4dfed9ad",
   "metadata": {},
   "outputs": [],
   "source": [
    "print(\"Still missing:\", filtered_df.isnull().sum().sum())"
   ]
  },
  {
   "cell_type": "code",
   "execution_count": null,
   "id": "dc25029a-3c9e-4b21-bb6b-b27c512fedde",
   "metadata": {},
   "outputs": [],
   "source": [
    "filtered_df.dtypes"
   ]
  },
  {
   "cell_type": "code",
   "execution_count": null,
   "id": "9e87f81b-d239-41a6-a1c7-4df106289907",
   "metadata": {},
   "outputs": [],
   "source": [
    "duplicates = filtered_df.duplicated().sum()\n",
    "print(\"Duplicate rows:\", duplicates)\n",
    "\n",
    "# Remove them if any\n",
    "filtered_df.drop_duplicates(inplace=True)"
   ]
  },
  {
   "cell_type": "markdown",
   "id": "828c22de-5bd7-4864-8cfa-6491332e7100",
   "metadata": {},
   "source": [
    "## Summary Statistics\n",
    "Next, to gain a better understanding of the distribution of our variables, I generated summary statistics using the .describe() function. This provided a snapshot of the central tendency and dispersion for each feature, including the mean, standard deviation, minimum, and maximum values.\n",
    "\n",
    "This step was particularly useful for identifying potential outliers or inconsistencies, and for confirming that the data is appropriately scaled for further analysis. I also reset the index to maintain a clean and sequential structure for the rows after the wrangling process."
   ]
  },
  {
   "cell_type": "code",
   "execution_count": null,
   "id": "541e9760-a954-4637-a7bb-dea7ef20487d",
   "metadata": {},
   "outputs": [],
   "source": [
    "filtered_df.describe()"
   ]
  },
  {
   "cell_type": "code",
   "execution_count": null,
   "id": "33face18-5646-49d5-b12c-9e2f1d67dd49",
   "metadata": {},
   "outputs": [],
   "source": [
    "filtered_df.reset_index(drop=True, inplace=True)"
   ]
  },
  {
   "cell_type": "markdown",
   "id": "bb7e3438-088d-476f-9281-b295c823521f",
   "metadata": {},
   "source": [
    "##  BMI Distribution\n",
    "\n",
    "The histogram below illustrates the distribution of Body Mass Index (BMI) across the selected NHANES participants. An interactive slider has been integrated to allow dynamic filtering by maximum BMI value, enhancing interpretability.\n",
    "\n",
    "The plot demonstrates a right-skewed distribution, with the majority of individuals concentrated in the 20–35 BMI range. This reflects common population-level patterns and highlights the prevalence of overweight and obesity within the dataset.\n",
    "\n",
    "The interactive capabilities enable a more focused examination of specific BMI intervals, which can be useful when comparing subgroups or identifying potential outliers."
   ]
  },
  {
   "cell_type": "code",
   "execution_count": null,
   "id": "2c0b0814-062d-4222-b0b1-7a7487160f3b",
   "metadata": {},
   "outputs": [],
   "source": [
    "output_notebook()\n",
    "\n",
    "# Prepare BMI values\n",
    "bmi_values = filtered_df[\"BMI\"].dropna()\n",
    "hist, edges = np.histogram(bmi_values, bins=30)\n",
    "\n",
    "# Create ColumnDataSource\n",
    "source = ColumnDataSource(data=dict(\n",
    "    top=hist,\n",
    "    left=edges[:-1],\n",
    "    right=edges[1:]\n",
    "))\n",
    "\n",
    "# Create histogram figure\n",
    "p = figure(title=\"BMI Distribution (Interactive)\", \n",
    "           x_axis_label='BMI', \n",
    "           y_axis_label='Frequency',\n",
    "           tools=\"pan,wheel_zoom,box_zoom,reset\")\n",
    "\n",
    "quad = p.quad(top='top', bottom=0, left='left', right='right', source=source,\n",
    "              fill_color=\"skyblue\", line_color=\"white\", alpha=0.8)\n",
    "\n",
    "# Add hover (optional but nice)\n",
    "from bokeh.models import HoverTool\n",
    "hover = HoverTool(tooltips=[(\"Range\", \"@left - @right\"), (\"Count\", \"@top\")])\n",
    "p.add_tools(hover)\n",
    "\n",
    "# Create slider\n",
    "slider = Slider(start=10, end=50, value=50, step=1, title=\"Max BMI\")\n",
    "\n",
    "# JS callback to update histogram dynamically\n",
    "callback = CustomJS(args=dict(source=source, \n",
    "                              original=bmi_values,\n",
    "                              slider=slider), code=\"\"\"\n",
    "    const max_bmi = slider.value;\n",
    "    const data = source.data;\n",
    "    \n",
    "    // Get original BMI array and filter\n",
    "    let values = Array.from(original).filter(v => v <= max_bmi);\n",
    "    \n",
    "    // Compute histogram\n",
    "    let bins = 30;\n",
    "    let minVal = Math.min(...values);\n",
    "    let maxVal = Math.max(...values);\n",
    "    let step = (maxVal - minVal) / bins;\n",
    "    \n",
    "    let counts = new Array(bins).fill(0);\n",
    "    for (let v of values) {\n",
    "        let idx = Math.min(Math.floor((v - minVal) / step), bins - 1);\n",
    "        counts[idx]++;\n",
    "    }\n",
    "\n",
    "    let left = [], right = [];\n",
    "    for (let i = 0; i < bins; i++) {\n",
    "        left.push(minVal + i * step);\n",
    "        right.push(minVal + (i + 1) * step);\n",
    "    }\n",
    "\n",
    "    data.top = counts;\n",
    "    data.left = left;\n",
    "    data.right = right;\n",
    "    source.change.emit();\n",
    "\"\"\")\n",
    "\n",
    "slider.js_on_change(\"value\", callback)\n",
    "\n",
    "# Show interactive layout\n",
    "show(column(p, slider))\n",
    "\n"
   ]
  },
  {
   "cell_type": "code",
   "execution_count": null,
   "id": "0b97c918-d449-49a5-935b-bd32062bebd1",
   "metadata": {},
   "outputs": [],
   "source": [
    "plt.figure(figsize=(8,5))\n",
    "plt.hist(bmi_values, bins=30, color=\"skyblue\", edgecolor=\"white\")\n",
    "plt.title(\"BMI Distribution (Static)\")\n",
    "plt.xlabel(\"BMI\")\n",
    "plt.ylabel(\"Frequency\")\n",
    "plt.tight_layout()\n",
    "plt.savefig(\"bmi_hist_static.png\")\n",
    "plt.close()\n",
    "\n",
    "Image(\"bmi_hist_static.png\")"
   ]
  },
  {
   "cell_type": "markdown",
   "id": "86f820f2-b307-42a4-989a-a6f3fb2619ac",
   "metadata": {},
   "source": [
    "## Diabetes Prevalence\n",
    "This interactive bar chart illustrates the distribution of individuals who have been told they have diabetes versus those who have not. The x-axis represents the diabetes diagnosis status (Yes or No), while the y-axis shows the number of individuals in each group.\n",
    "\n",
    "The chart is built using the Bokeh library, which allows for interactivity such as hover tooltips and zoom controls. When hovering over each bar, users can view the exact count of individuals per category, enabling a clearer and more precise comparison.\n",
    "\n",
    "From the visualisation, it is evident that the majority of individuals in the dataset reported not having been told they have diabetes, with a significantly smaller portion indicating a positive diagnosis. This disparity provides insight into the prevalence of diabetes within the population studied and can inform further exploration of potential risk factors."
   ]
  },
  {
   "cell_type": "code",
   "execution_count": null,
   "id": "d95d804b-6f85-4f61-8b5d-4e1d2c7f3a31",
   "metadata": {},
   "outputs": [],
   "source": [
    "output_notebook()\n",
    "\n",
    "diabetes_counts = filtered_df['Told_to_have_Diabetes'].value_counts().sort_index()\n",
    "labels = ['No', 'Yes']\n",
    "counts = [diabetes_counts.get(2, 0), diabetes_counts.get(1, 0)]  # NHANES codes: 1=Yes, 2=No\n",
    "\n",
    "source = ColumnDataSource(data=dict(\n",
    "    status=labels,\n",
    "    count=counts\n",
    "))\n",
    "\n",
    "p = figure(x_range=labels, title=\"Diabetes Prevalence\",\n",
    "           y_axis_label='Count', x_axis_label='Diabetes Diagnosis',\n",
    "           tools=\"pan,wheel_zoom,box_zoom,reset,save\")\n",
    "\n",
    "p.vbar(x='status', top='count', width=0.5, source=source,\n",
    "       fill_color=\"salmon\", line_color=\"black\", alpha=0.8)\n",
    "\n",
    "hover = HoverTool(tooltips=[(\"Status\", \"@status\"), (\"Count\", \"@count\")])\n",
    "p.add_tools(hover)\n",
    "\n",
    "p.title.text_font_size = \"16pt\"\n",
    "p.xaxis.axis_label_text_font_size = \"12pt\"\n",
    "p.yaxis.axis_label_text_font_size = \"12pt\"\n",
    "\n",
    "# Show plot\n",
    "show(p)"
   ]
  },
  {
   "cell_type": "code",
   "execution_count": null,
   "id": "f56b2b96-242b-417d-9643-5eedd0bd6edb",
   "metadata": {},
   "outputs": [],
   "source": [
    "diabetes_counts = filtered_df['Told_to_have_Diabetes'].value_counts().sort_index()\n",
    "labels = ['No', 'Yes']\n",
    "counts = [diabetes_counts.get(2, 0), diabetes_counts.get(1, 0)]\n",
    "\n",
    "plt.figure(figsize=(6, 4))\n",
    "plt.bar(labels, counts, color='salmon', edgecolor='black', alpha=0.8)\n",
    "plt.title(\"Diabetes Prevalence\", fontsize=16)\n",
    "plt.xlabel(\"Diabetes Diagnosis\", fontsize=12)\n",
    "plt.ylabel(\"Count\", fontsize=12)\n",
    "plt.tight_layout()\n",
    "plt.savefig(\"diabetes_prevalence_static.png\")  # Save Diabetes plot\n",
    "plt.close()\n",
    "\n",
    "Image(\"diabetes_prevalence_static.png\")\n"
   ]
  },
  {
   "cell_type": "markdown",
   "id": "d97150f5-ba6b-4dfa-bf4e-bb2adeb409dc",
   "metadata": {},
   "source": [
    "## BMI Distribution by Diabetes Diagnosis\n",
    "This visualisation presents a box plot comparing the Body Mass Index (BMI) distributions of individuals diagnosed with and without diabetes. The x-axis categorises respondents based on their diabetes diagnosis status (“Yes” or “No”), while the y-axis represents their respective BMI values.\n",
    "\n",
    "Each box plot reflects the interquartile range (IQR) of BMI values within each group, with the lower and upper bounds indicating the 25th and 75th percentiles, respectively. The vertical lines (“whiskers”) extend to 1.5 times the IQR, capturing the spread of most BMI values, while the central black segment denotes the median BMI.\n",
    "\n",
    "This comparison enables a more nuanced understanding of how BMI levels differ between diabetic and non-diabetic populations. It also offers a clearer sense of central tendency and variability in each group."
   ]
  },
  {
   "cell_type": "code",
   "execution_count": null,
   "id": "9efc3e33-b529-47ba-a506-f45dfefe79c6",
   "metadata": {},
   "outputs": [],
   "source": [
    "output_notebook()\n",
    "\n",
    "filtered_df['Diabetes_Label'] = filtered_df['Told_to_have_Diabetes'].replace({1: 'Yes', 2: 'No'})\n",
    "filtered_df = filtered_df[filtered_df['Diabetes_Label'].isin(['Yes', 'No'])]\n",
    "\n",
    "grouped = filtered_df.groupby('Diabetes_Label')['BMI']\n",
    "stats_df = grouped.describe()[['25%', '50%', '75%']]\n",
    "stats_df.columns = ['q1', 'q2', 'q3']\n",
    "stats_df['iqr'] = stats_df['q3'] - stats_df['q1']\n",
    "stats_df['upper'] = stats_df['q3'] + 1.5 * stats_df['iqr']\n",
    "stats_df['lower'] = stats_df['q1'] - 1.5 * stats_df['iqr']\n",
    "stats_df = stats_df.reset_index()\n",
    "\n",
    "source = ColumnDataSource(stats_df)\n",
    "\n",
    "p = figure(x_range=['No', 'Yes'], title=\"BMI Distribution by Diabetes Diagnosis\",\n",
    "           y_axis_label='BMI', x_axis_label='Diabetes Diagnosis', height=400,\n",
    "           tools=\"pan,wheel_zoom,box_zoom,reset,save\", toolbar_location=\"right\")\n",
    "\n",
    "\n",
    "p.vbar(x='Diabetes_Label', width=0.6, bottom='q1', top='q3', source=source,\n",
    "       fill_color=\"lightblue\", line_color=\"black\")\n",
    "p.segment(x0='Diabetes_Label', y0='q2', x1='Diabetes_Label', y1='q2', source=source,\n",
    "          line_color=\"black\", line_width=2)\n",
    "p.add_layout(Whisker(source=source, base='Diabetes_Label', upper='upper', lower='lower'))\n",
    "\n",
    "show(p)"
   ]
  },
  {
   "cell_type": "code",
   "execution_count": null,
   "id": "1048eaff-44bb-42eb-b66a-5ff657d80fc6",
   "metadata": {},
   "outputs": [],
   "source": [
    "grouped_data = [filtered_df[filtered_df['Diabetes_Label'] == label]['BMI'].dropna() for label in ['No', 'Yes']]\n",
    "\n",
    "plt.figure(figsize=(8, 5))\n",
    "plt.boxplot(grouped_data,\n",
    "            labels=['No', 'Yes'],\n",
    "            patch_artist=True,\n",
    "            showfliers=False, \n",
    "            boxprops=dict(facecolor='lightblue', color='black'),\n",
    "            medianprops=dict(color='black'),\n",
    "            whiskerprops=dict(color='black'),\n",
    "            capprops=dict(color='black'))\n",
    "\n",
    "plt.title(\"BMI Distribution by Diabetes Diagnosis\")\n",
    "plt.xlabel(\"Diabetes Diagnosis\")\n",
    "plt.ylabel(\"BMI\")\n",
    "plt.tight_layout()\n",
    "plt.savefig(\"bmi_by_diabetes_static_nofliers.png\")\n",
    "plt.close()\n",
    "\n",
    "Image(\"bmi_by_diabetes_static_nofliers.png\")\n"
   ]
  },
  {
   "cell_type": "markdown",
   "id": "ab9a1d48-4819-452d-976e-62442608fef5",
   "metadata": {},
   "source": [
    "## Age Summary by Diabetes Diagnosis\n",
    "After that we made a table that displays descriptive statistics for age, grouped by diabetes diagnosis status. It provides insights into the age distribution among individuals with and without diabetes.\n",
    "\n",
    "We can see that:\n",
    "- Individuals without diabetes have an average age of approximately 43.1 years, with the interquartile range (25th to 75th percentile) between 24.0 and 61.0 years.\n",
    "- In contrast, individuals with diabetes have a notably higher average age of approximately 62.5 years, with an interquartile range between 55.0 and 72.0 years.\n",
    "\n",
    "The clear difference in central tendency and spread suggests that age is a significant factor associated with diabetes prevalence. Older individuals are considerably more likely to be diagnosed with diabetes compared to younger ones, which aligns with well-established medical findings."
   ]
  },
  {
   "cell_type": "code",
   "execution_count": null,
   "id": "1ce487af-84ca-4562-bab8-d6914590b0a1",
   "metadata": {},
   "outputs": [],
   "source": [
    "age_summary = filtered_df.groupby(\"Diabetes_Label\")[\"Age\"].describe()\n",
    "display(age_summary)\n"
   ]
  },
  {
   "cell_type": "markdown",
   "id": "c71ed321-62ce-4d39-92e8-0680ce002b95",
   "metadata": {},
   "source": [
    "## Nutrient Intake Summary by Diabetes Diagnosis\n",
    "To better understand dietary patterns across diabetes statuses, I aggregated the nutrient intake variables including Protein, Carbohydrates, Total Fat, Total Sugars, and Dietary Fiber by diabetes diagnosis groups (Yes/No). For each group, I computed the mean, standard deviation, minimum, and maximum values of these nutrients.\n",
    "\n",
    "We can see that: \n",
    "- Protein, Carbohydrates, and Total Fat show slightly higher average intake among individuals without diabetes.\n",
    "- Total Sugars and Dietary Fiber show comparable mean values between groups, although the non-diabetic group has a slightly higher average sugar and fiber intake.\n",
    "\n",
    "The standard deviations across all nutrients indicate considerable variability in individual intake levels, reflecting diverse dietary behaviors in both groups. This analysis provides useful insight into how nutrient consumption patterns differ by diabetes status, which may inform further investigation into dietary risk factors and interventions."
   ]
  },
  {
   "cell_type": "code",
   "execution_count": null,
   "id": "6e51ac82-f65c-40a3-8a5d-6a6d287b53fe",
   "metadata": {},
   "outputs": [],
   "source": [
    "nutrients = [\"Protein\", \"Carbohydrates\", \"Total_Fat\", \"Total_Sugars\", \"Dietary_Fiber\"]\n",
    "nutrient_summary = filtered_df.groupby(\"Diabetes_Label\")[nutrients].agg([\"mean\", \"std\", \"min\", \"max\"])\n",
    "display(nutrient_summary.round(1))"
   ]
  },
  {
   "cell_type": "markdown",
   "id": "f52a8913-c27d-4c10-94aa-860b6f81beb3",
   "metadata": {},
   "source": [
    "## Feature Correlation Heatmap\n",
    "After that, I tried to uncover relationships among the selected features. So, I constructed a correlation heatmap displaying Pearson correlation coefficients between each pair of continuous variables. This matrix provides a comprehensive overview of the linear association between features.\n",
    "\n",
    "From the heatmap, we can see that:\n",
    "- Weight, BMI, and Waist Circumference show strong positive correlations with one another, which is expected due to their shared relevance in body composition.\n",
    "- Glycohemoglobin (a diabetes indicator) appears to correlate moderately with Waist Circumference and BMI, suggesting potential association with obesity-related metrics.\n",
    "- Most dietary variables, such as Carbohydrates, Total Sugars, and Total Fat have low to moderate correlations between themselves, indicating some overlap but not redundancy.\n",
    "- Age shows relatively low correlation with other features, implying it behaves independently within this dataset.\n",
    "\n",
    "This correlation map helps identify risks of multicollinearity in modeling and informs feature selection strategies."
   ]
  },
  {
   "cell_type": "code",
   "execution_count": null,
   "id": "f565acf0-9a04-49ec-82d5-a0ce2d22dbee",
   "metadata": {},
   "outputs": [],
   "source": [
    "num_cols = [\n",
    "    \"Age\", \"BMI\", \"Protein\", \"Total_Fat\", \"Carbohydrates\", \"Total_Sugars\", \"Dietary_Fiber\",\n",
    "    \"Sodium\", \"Energy_Intake\", \"Weight_kg\", \"Height_cm\", \"Waist_Circumference\", \"Glycohemoglobin\"\n",
    "]\n",
    "filtered_num = filtered_df[num_cols]\n",
    "\n",
    "\n",
    "corr_matrix = filtered_num.corr().round(2)\n",
    "corr_data = corr_matrix.stack().reset_index()\n",
    "corr_data.columns = [\"x\", \"y\", \"value\"]\n",
    "source = ColumnDataSource(corr_data)\n",
    "\n",
    "mapper = LinearColorMapper(palette=Blues256, low=-1, high=1)\n",
    "\n",
    "p = figure(title=\"Feature Correlation Heatmap\", \n",
    "           x_range=list(corr_matrix.columns), y_range=list(reversed(corr_matrix.columns)),\n",
    "           x_axis_location=\"above\", width=800, height=800, \n",
    "           toolbar_location='right', tools=\"hover,save,reset\", tooltips=[(\"Var1\", \"@x\"), (\"Var2\", \"@y\"), (\"Corr\", \"@value\")])\n",
    "\n",
    "p.rect(x=\"x\", y=\"y\", width=1, height=1, source=source,\n",
    "       fill_color=transform('value', mapper), line_color=None)\n",
    "\n",
    "color_bar = ColorBar(color_mapper=mapper, major_label_text_font_size=\"10px\",\n",
    "                     ticker=BasicTicker(desired_num_ticks=10),\n",
    "                     formatter=PrintfTickFormatter(format=\"%.2f\"),\n",
    "                     label_standoff=8, border_line_color=None, location=(0, 0))\n",
    "\n",
    "p.add_layout(color_bar, 'right')\n",
    "p.xaxis.major_label_orientation = np.pi/4\n",
    "\n",
    "show(p)"
   ]
  },
  {
   "cell_type": "code",
   "execution_count": null,
   "id": "591ada78-3780-4302-94a3-37c783287991",
   "metadata": {},
   "outputs": [],
   "source": [
    "num_cols = [\n",
    "    \"Age\", \"BMI\", \"Protein\", \"Total_Fat\", \"Carbohydrates\", \"Total_Sugars\", \"Dietary_Fiber\",\n",
    "    \"Sodium\", \"Energy_Intake\", \"Weight_kg\", \"Height_cm\", \"Waist_Circumference\", \"Glycohemoglobin\"\n",
    "]\n",
    "filtered_num = filtered_df[num_cols]\n",
    "corr_matrix = filtered_num.corr()\n",
    "\n",
    "plt.figure(figsize=(10, 8))\n",
    "sns.heatmap(corr_matrix, cmap='Blues_r', vmin=-1, vmax=1, square=True, cbar_kws={\"shrink\": 0.8})\n",
    "plt.title(\"Feature Correlation Heatmap (Static)\")\n",
    "plt.xticks(rotation=45, ha='right')\n",
    "plt.yticks(rotation=0)\n",
    "plt.tight_layout()\n",
    "plt.savefig(\"correlation_heatmap_static.png\")\n",
    "plt.close()\n",
    "Image(\"correlation_heatmap_static.png\")"
   ]
  },
  {
   "cell_type": "markdown",
   "id": "9cd6883b-030f-474d-a4c9-edde099570c7",
   "metadata": {},
   "source": [
    "## Glycohemoglobin (%) by Diabetes Diagnosis\n",
    "To assess how glycohemoglobin levels vary across diabetes status, I created a box plot comparing the distributions of glycohemoglobin (%) for individuals with and without diabetes. Glycohemoglobin, also known as HbA1c, reflects average blood glucose levels over the past three months and is a key indicator used in diagnosing and monitoring diabetes.\n",
    "\n",
    "From the visualisation:\n",
    "- Individuals diagnosed with diabetes tend to exhibit significantly higher glycohemoglobin levels, with a visibly elevated median and broader range.\n",
    "- The non-diabetic group has a more compact distribution centered below 6%, indicating normal to borderline glycemic control.\n",
    "- The wider interquartile range and presence of high outliers among the diabetic group highlight substantial variability in glycemic control.\n",
    "\n",
    "This plot visually reinforces the role of glycohemoglobin as a reliable biomarker distinguishing between diabetic and non-diabetic individuals, aligning with clinical expectations."
   ]
  },
  {
   "cell_type": "code",
   "execution_count": null,
   "id": "363ba0bf-2391-43a3-a8da-7391834e22c6",
   "metadata": {},
   "outputs": [],
   "source": [
    "filtered_df[\"Diabetes_Label\"] = filtered_df[\"Told_to_have_Diabetes\"].replace({1: \"Yes\", 2: \"No\"})\n",
    "\n",
    "grouped = filtered_df.groupby(\"Diabetes_Label\")[\"Glycohemoglobin\"].describe()\n",
    "stats_df = grouped[[\"25%\", \"50%\", \"75%\"]]\n",
    "stats_df[\"iqr\"] = stats_df[\"75%\"] - stats_df[\"25%\"]\n",
    "stats_df[\"upper\"] = stats_df[\"75%\"] + 1.5 * stats_df[\"iqr\"]\n",
    "stats_df[\"lower\"] = stats_df[\"25%\"] - 1.5 * stats_df[\"iqr\"]\n",
    "stats_df = stats_df.reset_index()\n",
    "\n",
    "source = ColumnDataSource(stats_df)\n",
    "\n",
    "# Plot box\n",
    "p = figure(x_range=stats_df[\"Diabetes_Label\"], title=\"Glycohemoglobin (%) by Diabetes Diagnosis\",\n",
    "           height=400, tools=\"pan,wheel_zoom,box_zoom,reset,save\", toolbar_location=\"right\",\n",
    "           y_axis_label=\"Glycohemoglobin (%)\", x_axis_label=\"Diabetes Status\")\n",
    "\n",
    "\n",
    "p.vbar(x='Diabetes_Label', width=0.6, bottom='25%', top='75%', source=source,\n",
    "       fill_color=factor_cmap('Diabetes_Label', palette=[\"#aed6f1\", \"#f5b7b1\"], factors=[\"No\", \"Yes\"]),\n",
    "       line_color=\"black\")\n",
    "\n",
    "# Draw median and whiskers\n",
    "p.segment(x0='Diabetes_Label', y0='upper', x1='Diabetes_Label', y1='75%', source=source, line_color=\"black\")\n",
    "p.segment(x0='Diabetes_Label', y0='25%', x1='Diabetes_Label', y1='lower', source=source, line_color=\"black\")\n",
    "p.segment(x0='Diabetes_Label', y0='50%', x1='Diabetes_Label', y1='50%', source=source, line_color=\"black\", line_width=2)\n",
    "\n",
    "p.add_layout(Whisker(source=source, base=\"Diabetes_Label\", upper=\"upper\", lower=\"lower\"))\n",
    "\n",
    "p.xaxis.axis_label_text_font_size = \"12pt\"\n",
    "p.yaxis.axis_label_text_font_size = \"12pt\"\n",
    "\n",
    "show(p)"
   ]
  },
  {
   "cell_type": "code",
   "execution_count": null,
   "id": "f9d57de4-bb3e-446d-80c2-412d2e7ce3df",
   "metadata": {},
   "outputs": [],
   "source": [
    "filtered_df[\"Diabetes_Label\"] = filtered_df[\"Told_to_have_Diabetes\"].replace({1: \"Yes\", 2: \"No\"})\n",
    "filtered_df = filtered_df[filtered_df[\"Diabetes_Label\"].isin([\"Yes\", \"No\"])]\n",
    "\n",
    "grouped_data = [filtered_df[filtered_df[\"Diabetes_Label\"] == label][\"Glycohemoglobin\"].dropna() \n",
    "                for label in [\"No\", \"Yes\"]]\n",
    "\n",
    "plt.figure(figsize=(8, 5))\n",
    "box = plt.boxplot(grouped_data,\n",
    "                  labels=[\"No\", \"Yes\"],\n",
    "                  patch_artist=True,\n",
    "                  showfliers=False,  \n",
    "                  boxprops=dict(color=\"black\"),\n",
    "                  medianprops=dict(color=\"black\"),\n",
    "                  whiskerprops=dict(color=\"black\"),\n",
    "                  capprops=dict(color=\"black\"))\n",
    "\n",
    "\n",
    "colors = [\"#aed6f1\", \"#f5b7b1\"]  \n",
    "for patch, color in zip(box[\"boxes\"], colors):\n",
    "    patch.set_facecolor(color)\n",
    "\n",
    "plt.title(\"Glycohemoglobin (%) by Diabetes Diagnosis\")\n",
    "plt.xlabel(\"Diabetes Status\")\n",
    "plt.ylabel(\"Glycohemoglobin (%)\")\n",
    "plt.tight_layout()\n",
    "plt.savefig(\"glycohemoglobin_diabetes_static.png\")\n",
    "plt.close()\n",
    "\n",
    "\n",
    "Image(\"glycohemoglobin_diabetes_static.png\")"
   ]
  },
  {
   "cell_type": "markdown",
   "id": "22001fcb-70b4-4ce9-83d5-031e0a617842",
   "metadata": {},
   "source": [
    "## Waist Circumference vs BMI by Diabetes Status\n",
    "This scatter plot explores the relationship between Waist Circumference (cm) and Body Mass Index (BMI) across individuals with and without diabetes. Each point represents an individual, coloured by their diabetes status: blue for non-diabetic and orange for diabetic.\n",
    "\n",
    "A strong positive correlation is visually evident as waist circumference increases, BMI tends to rise accordingly. This trend holds across both diabetes groups, although the diabetic group appears slightly more concentrated in higher ranges of both BMI and waist circumference.\n",
    "\n",
    "The visual suggests that central obesity, indicated by greater waist circumference, is a notable factor associated with increased BMI regardless of diabetes status. However, the clustering of diabetic individuals in the upper quadrant implies that higher adiposity may play a role in the development or presence of diabetes, warranting further clinical investigation.\n",
    "\n"
   ]
  },
  {
   "cell_type": "code",
   "execution_count": null,
   "id": "e686189f-7b10-421a-98fb-e8b113ac4cfb",
   "metadata": {},
   "outputs": [],
   "source": [
    "filtered_df[\"Diabetes_Label\"] = filtered_df[\"Told_to_have_Diabetes\"].replace({1: \"Yes\", 2: \"No\"})\n",
    "\n",
    "source = ColumnDataSource(filtered_df)\n",
    "\n",
    "p = figure(title=\"Waist Circumference vs BMI by Diabetes Status\", \n",
    "           x_axis_label=\"Waist Circumference (cm)\", \n",
    "           y_axis_label=\"BMI\",\n",
    "           tools=\"pan,wheel_zoom,box_zoom,reset,hover,save\",\n",
    "           height=400)\n",
    "p.scatter(x='Waist_Circumference', y='BMI', \n",
    "          source=source, \n",
    "          color=factor_cmap('Diabetes_Label', palette=Category10[3], factors=[\"No\", \"Yes\"]),\n",
    "          legend_field='Diabetes_Label',\n",
    "          size=6, alpha=0.6)\n",
    "\n",
    "p.hover.tooltips = [\n",
    "    (\"BMI\", \"@BMI{0.0}\"),\n",
    "    (\"Waist Circumference\", \"@Waist_Circumference{0.0} cm\"),\n",
    "    (\"Diabetes\", \"@Diabetes_Label\")\n",
    "]\n",
    "\n",
    "\n",
    "p.legend.title = \"Diabetes Status\"\n",
    "p.legend.location = \"top_left\"\n",
    "p.legend.label_text_font_size = \"10pt\"\n",
    "p.xaxis.axis_label_text_font_size = \"12pt\"\n",
    "p.yaxis.axis_label_text_font_size = \"12pt\"\n",
    "\n",
    "show(p)"
   ]
  },
  {
   "cell_type": "code",
   "execution_count": null,
   "id": "bf9b0857-2828-4071-ac9d-21c368e028ef",
   "metadata": {},
   "outputs": [],
   "source": [
    "filtered_df[\"Diabetes_Label\"] = filtered_df[\"Told_to_have_Diabetes\"].replace({1: \"Yes\", 2: \"No\"})\n",
    "filtered_df = filtered_df[filtered_df[\"Diabetes_Label\"].isin([\"Yes\", \"No\"])]\n",
    "\n",
    "\n",
    "plt.figure(figsize=(10, 6))\n",
    "\n",
    "colors = {\"No\": \"#1f77b4\", \"Yes\": \"#ff7f0e\"}  \n",
    "for label in [\"No\", \"Yes\"]:\n",
    "    subset = filtered_df[filtered_df[\"Diabetes_Label\"] == label]\n",
    "    plt.scatter(subset[\"Waist_Circumference\"], subset[\"BMI\"], \n",
    "                c=colors[label], label=label, alpha=0.6, s=15)\n",
    "\n",
    "plt.title(\"Waist Circumference vs BMI by Diabetes Status\", fontsize=14)\n",
    "plt.xlabel(\"Waist Circumference (cm)\", fontsize=12)\n",
    "plt.ylabel(\"BMI\", fontsize=12)\n",
    "plt.legend(title=\"Diabetes Status\", title_fontsize=11, fontsize=10)\n",
    "plt.tight_layout()\n",
    "\n",
    "\n",
    "plt.savefig(\"waist_vs_bmi_static.png\")\n",
    "plt.close()\n",
    "\n",
    "Image(\"waist_vs_bmi_static.png\")"
   ]
  },
  {
   "cell_type": "markdown",
   "id": "ae73bdf2-7df7-4220-a0fa-495bb53720bd",
   "metadata": {},
   "source": [
    "## BMI vs Waist Circumference (Overweight Individuals Only)\n",
    "This scatter plot visualises the relationship between Waist Circumference and BMI among overweight individuals (BMI greater than 25). A linear regression trendline is included to highlight the underlying association.\n",
    "\n",
    "The visual demonstrates a strong positive linear relationship between the two variables. As waist circumference increases, BMI also rises. The trendline effectively summarises this correlation, indicating that individuals with larger waist circumferences tend to exhibit higher BMI values.\n",
    "\n",
    "This analysis reinforces the use of waist circumference as a practical indicator of general body fatness, particularly within overweight populations. Such insights are valuable for developing targeted public health strategies addressing obesity-related conditions including diabetes."
   ]
  },
  {
   "cell_type": "code",
   "execution_count": null,
   "id": "ae2fdbdd-e87b-46fa-af85-50be1b140026",
   "metadata": {},
   "outputs": [],
   "source": [
    "subset = filtered_df[(filtered_df[\"BMI\"] > 25) & filtered_df[\"Waist_Circumference\"].notnull() & filtered_df[\"BMI\"].notnull()]\n",
    "x = subset[\"Waist_Circumference\"].values.reshape(-1, 1)\n",
    "y = subset[\"BMI\"].values\n",
    "\n",
    "model = LinearRegression()\n",
    "model.fit(x, y)\n",
    "x_range = np.linspace(x.min(), x.max(), 100)\n",
    "y_pred = model.predict(x_range.reshape(-1, 1))\n",
    "\n",
    "source = ColumnDataSource(subset)\n",
    "line_source = ColumnDataSource(data={\"x\": x_range, \"y\": y_pred})\n",
    "\n",
    "p = figure(title=\"BMI vs Waist Circumference (Overweight Only) with Trendline\",\n",
    "           x_axis_label=\"Waist Circumference (cm)\",\n",
    "           y_axis_label=\"BMI\",\n",
    "           height=400, width=700,\n",
    "           tools=\"pan,wheel_zoom,box_zoom,reset,save\")\n",
    "\n",
    "p.scatter(\"Waist_Circumference\", \"BMI\",\n",
    "          source=source, color=\"navy\", size=4, alpha=0.5)\n",
    "\n",
    "p.line(\"x\", \"y\", source=line_source, line_color=\"firebrick\", line_width=3, legend_label=\"Trendline\")\n",
    "\n",
    "p.legend.location = \"top_left\"\n",
    "p.legend.label_text_font_size = \"10pt\"\n",
    "p.xaxis.axis_label_text_font_size = \"12pt\"\n",
    "p.yaxis.axis_label_text_font_size = \"12pt\"\n",
    "\n",
    "show(p)"
   ]
  },
  {
   "cell_type": "code",
   "execution_count": null,
   "id": "ca265a54-cb62-4023-88be-e12fa7493cea",
   "metadata": {},
   "outputs": [],
   "source": [
    "subset = filtered_df[\n",
    "    (filtered_df[\"BMI\"] > 25) &\n",
    "    filtered_df[\"Waist_Circumference\"].notnull() &\n",
    "    filtered_df[\"BMI\"].notnull()\n",
    "]\n",
    "x = subset[\"Waist_Circumference\"].values.reshape(-1, 1)\n",
    "y = subset[\"BMI\"].values\n",
    "\n",
    "model = LinearRegression()\n",
    "model.fit(x, y)\n",
    "x_range = np.linspace(x.min(), x.max(), 100).reshape(-1, 1)\n",
    "y_pred = model.predict(x_range)\n",
    "\n",
    "plt.figure(figsize=(8, 5))\n",
    "plt.scatter(x, y, color=\"navy\", alpha=0.5, s=10, label=\"Data Points\")\n",
    "plt.plot(x_range, y_pred, color=\"firebrick\", linewidth=2.5, label=\"Trendline\")\n",
    "\n",
    "plt.title(\"BMI vs Waist Circumference (Overweight Only) with Trendline\")\n",
    "plt.xlabel(\"Waist Circumference (cm)\", fontsize=12)\n",
    "plt.ylabel(\"BMI\", fontsize=12)\n",
    "plt.legend(fontsize=10, loc=\"upper left\")\n",
    "plt.tight_layout()\n",
    "\n",
    "plt.savefig(\"bmi_vs_waist_trend_static.png\")\n",
    "plt.close()\n",
    "\n",
    "Image(\"bmi_vs_waist_trend_static.png\")\n"
   ]
  },
  {
   "cell_type": "markdown",
   "id": "4811debc-acb8-4989-ba1f-a23c4150f6ef",
   "metadata": {},
   "source": [
    "## Parallel Coordinates Plot by Diabetes Status\n",
    "This parallel coordinates plot enables the comparison of multiple features simultaneously between individuals with and without diabetes. Each line represents a single participant, with values normalised to a common scale for clarity.\n",
    "\n",
    "Features included are Age, BMI, Waist Circumference, Protein, Sodium, Energy Intake, and Glycohemoglobin. Blue lines represent non-diabetic individuals, while red lines indicate those diagnosed with diabetes.\n",
    "\n",
    "From the visual, notable patterns can be observed. Diabetic participants (in red) generally follow higher paths along BMI, Waist Circumference, and Glycohemoglobin axes, suggesting elevated readings in these variables compared to the non-diabetic group. This multidimensional view is particularly helpful for identifying key attributes that differ across diabetes status and may assist in risk stratification and early screening efforts.\n",
    "\n"
   ]
  },
  {
   "cell_type": "code",
   "execution_count": null,
   "id": "0367c1cb-ee2d-4db5-b992-f817f0efcca1",
   "metadata": {},
   "outputs": [],
   "source": [
    "features = ['Age', 'BMI', 'Waist_Circumference', 'Protein', 'Sodium', 'Energy_Intake', 'Glycohemoglobin']\n",
    "subset_df = filtered_df[features + ['Told_to_have_Diabetes']].dropna()\n",
    "\n",
    "scaler = MinMaxScaler()\n",
    "norm_data = pd.DataFrame(scaler.fit_transform(subset_df[features]), columns=features)\n",
    "\n",
    "norm_data['Diabetes'] = subset_df['Told_to_have_Diabetes'].replace({1: \"Yes\", 2: \"No\"})\n",
    "\n",
    "xs = [features] * len(norm_data)\n",
    "ys = norm_data[features].values.tolist()\n",
    "colors = [Category10[10][0] if d == \"No\" else Category10[10][3] for d in norm_data['Diabetes']]\n",
    "\n",
    "source = ColumnDataSource(data=dict(xs=xs, ys=ys, color=colors, label=norm_data['Diabetes']))\n",
    "\n",
    "p = figure(title=\"Parallel Coordinates Plot by Diabetes Status\",\n",
    "           x_range=features, height=400, width=800,\n",
    "           tools=\"pan,wheel_zoom,box_zoom,reset,save\")\n",
    "\n",
    "p.multi_line(xs='xs', ys='ys', line_color='color', source=source, alpha=0.4, line_width=1)\n",
    "\n",
    "# Labeling\n",
    "p.xaxis.major_label_orientation = np.pi / 4\n",
    "p.xaxis.axis_label = \"Features\"\n",
    "p.yaxis.axis_label = \"Normalised Value\"\n",
    "\n",
    "show(p)\n"
   ]
  },
  {
   "cell_type": "code",
   "execution_count": null,
   "id": "e3002fda-95fa-4b0a-a410-a031526e43a1",
   "metadata": {},
   "outputs": [],
   "source": [
    "features = ['Age', 'BMI', 'Waist_Circumference', 'Protein', 'Sodium', 'Energy_Intake', 'Glycohemoglobin']\n",
    "subset_df = filtered_df[features + ['Told_to_have_Diabetes']].dropna()\n",
    "\n",
    "scaler = MinMaxScaler()\n",
    "norm_data = pd.DataFrame(scaler.fit_transform(subset_df[features]), columns=features)\n",
    "\n",
    "norm_data['Diabetes'] = subset_df['Told_to_have_Diabetes'].replace({1: \"Yes\", 2: \"No\"})\n",
    "\n",
    "plt.figure(figsize=(10, 5))\n",
    "parallel_coordinates(norm_data, class_column='Diabetes',\n",
    "                     color=[\"#1f77b4\", \"#ff7f0e\"], alpha=0.3, linewidth=0.8)\n",
    "\n",
    "plt.title(\"Parallel Coordinates Plot by Diabetes Status\")\n",
    "plt.xlabel(\"Features\")\n",
    "plt.ylabel(\"Normalised Value\")\n",
    "plt.xticks(rotation=45)\n",
    "plt.tight_layout()\n",
    "\n",
    "plt.savefig(\"parallel_coordinates_static.png\")\n",
    "plt.close()\n",
    "\n",
    "Image(\"parallel_coordinates_static.png\")"
   ]
  },
  {
   "cell_type": "markdown",
   "id": "c25e9262-133b-4029-8ac2-0b3c61fe6465",
   "metadata": {},
   "source": [
    "## Dataset Overview\n",
    "Next I want to see the dataset overview. The cleaned dataset contains 17,107 entries and 18 columns, with no missing values. Most features are numeric, except for Diabetes_Label, which is categorical. This structure is ready for reliable analysis and modelling"
   ]
  },
  {
   "cell_type": "code",
   "execution_count": null,
   "id": "994e117d-2386-4128-b22c-5c41590338d9",
   "metadata": {},
   "outputs": [],
   "source": [
    "filtered_df.info()"
   ]
  },
  {
   "cell_type": "markdown",
   "id": "d455f9e6-e09b-4916-b037-ed778b5b70d9",
   "metadata": {},
   "source": [
    "## Statistical Significance Testing\n",
    "An independent t-test was conducted to compare the means of BMI, Glycohaemoglobin, and Waist Circumference between diabetic and non-diabetic groups. All three variables yielded p-values below 0.05, indicating statistically significant differences between the groups. This suggests that these features are meaningfully associated with diabetes status."
   ]
  },
  {
   "cell_type": "code",
   "execution_count": null,
   "id": "cc9d5951-e668-43ae-91dc-aa1f951ab05a",
   "metadata": {},
   "outputs": [],
   "source": [
    "# Split data\n",
    "yes_group = filtered_df[filtered_df[\"Told_to_have_Diabetes\"] == 1]\n",
    "no_group = filtered_df[filtered_df[\"Told_to_have_Diabetes\"] == 2]\n",
    "\n",
    "features = [\"BMI\", \"Glycohemoglobin\", \"Waist_Circumference\"]\n",
    "\n",
    "for col in features:\n",
    "    stat, p = ttest_ind(yes_group[col], no_group[col], nan_policy='omit')\n",
    "    print(f\"{col}: p-value = {p:.5f} {'(Significant)' if p < 0.05 else '(Not Significant)'}\")"
   ]
  },
  {
   "cell_type": "markdown",
   "id": "38d34881-951b-4876-ae9e-d8823b3720f0",
   "metadata": {},
   "source": [
    "## Model Training \n",
    "\n",
    "To develop a predictive model for diabetes classification, a Random Forest Classifier was trained using the standardised numerical features. StandardScaler was applied to ensure consistent scaling across features, followed by SMOTE (Synthetic Minority Over-sampling Technique) to balance the training dataset.Specifically, for the diabetic class, the model produced a precision of 0.69, recall of 0.72, and an F1-score of 0.71. For the non-diabetic class, the precision reached 0.96, with a recall of 0.95 and an F1-score of 0.96. These results indicate that the model is highly effective in detecting non-diabetic individuals, while still maintaining acceptable performance in identifying those with diabetes."
   ]
  },
  {
   "cell_type": "code",
   "execution_count": null,
   "id": "fc710c69-f919-4002-b623-211c20a02e47",
   "metadata": {},
   "outputs": [],
   "source": [
    "X = filtered_df[[\"BMI\", \"Glycohemoglobin\", \"Waist_Circumference\"]]\n",
    "y = filtered_df[\"Told_to_have_Diabetes\"]\n",
    "X_train, X_test, y_train, y_test = train_test_split(X, y, test_size=0.2, random_state=42)"
   ]
  },
  {
   "cell_type": "code",
   "execution_count": null,
   "id": "7e7b0399-9e95-4055-9264-b15ee2b6b19a",
   "metadata": {},
   "outputs": [],
   "source": [
    "X_train_num = X_train.select_dtypes(include=[\"float64\", \"int64\"])\n",
    "X_test_num = X_test.select_dtypes(include=[\"float64\", \"int64\"])\n",
    "\n",
    "scaler = StandardScaler()\n",
    "X_train_scaled = scaler.fit_transform(X_train_num)\n",
    "X_test_scaled = scaler.transform(X_test_num)\n",
    "\n",
    "\n",
    "smote = SMOTE(random_state=42)\n",
    "X_train_bal, y_train_bal = smote.fit_resample(X_train_scaled, y_train)\n",
    "\n",
    "# Model training\n",
    "model = RandomForestClassifier(random_state=42)\n",
    "model.fit(X_train_bal, y_train_bal)\n",
    "\n",
    "y_pred = model.predict(X_test_scaled)\n",
    "print(confusion_matrix(y_test, y_pred))\n",
    "print(classification_report(y_test, y_pred))"
   ]
  },
  {
   "cell_type": "markdown",
   "id": "4a3e1062-cba3-4bca-8c29-899b33611139",
   "metadata": {},
   "source": [
    "## Model Accuracy\n",
    "\n",
    "The Random Forest Classifier achieved an overall accuracy of 91.23% on the test set. This indicates that the model was able to correctly classify diabetes status for the majority of individuals based on the selected health and demographic features. "
   ]
  },
  {
   "cell_type": "code",
   "execution_count": null,
   "id": "ff1177a7-fb0a-424e-9818-a07fa911e382",
   "metadata": {},
   "outputs": [],
   "source": [
    "acc = accuracy_score(y_test, y_pred)\n",
    "print(f\" Accuracy Score: {acc:.2%}\")"
   ]
  },
  {
   "cell_type": "markdown",
   "id": "c9136577-1a03-4b62-a087-36c604e23b50",
   "metadata": {},
   "source": [
    "# Data Privacy and Ethical Issue\n",
    "Working with health data requires a strong ethical stance. Although the NHANES dataset is publicly available and anonymised, it is crucial to maintain respect for participant confidentiality. Reidentification risks, though minimal, should not be overlooked especially when combining multiple datasets or when demographic features like age, ethnicity, or location are involved.\n",
    "\n",
    "Moreover, predictive models in health contexts must be used cautiously. While machine learning can assist healthcare professionals, it should not replace clinical judgment. There is also an ethical imperative to consider fairness such as models trained on imbalanced datasets may underperform for underrepresented groups, leading to disparities in diagnosis or care.\n",
    "\n",
    "In future work, further attention should be given to model fairness, transparency, and the implications of deploying such models in real-world settings. Additionally, a deeper exploration of causality rather than correlation would strengthen the overall validity of conclusions drawn from the data."
   ]
  },
  {
   "cell_type": "markdown",
   "id": "1fdc037e-ac65-4fab-b53b-238a95974fd5",
   "metadata": {},
   "source": [
    "# Summary\n",
    "\n",
    "This project explored the relationship between diabetes status and various health, dietary, and demographic factors using the NHANES dataset. Through  data wrangling, interactive visualisations, statistical testing, and machine learning modelling, several important insights were uncovered.\n",
    "\n",
    "It was observed that individuals with diabetes tend to have higher average BMI, glycohaemoglobin levels, and waist circumference compared to non-diabetic individuals. While differences in nutrient intake (such as protein, total fat, and sugars) existed, they were relatively minor and showed high variability within both groups.\n",
    "\n",
    "Visualisation tools such as interactive histograms, bar charts, box plots, and parallel coordinate plots were effective in highlighting distribution patterns and comparisons across features. The correlation heatmap further supported strong associations between BMI, weight, and waist circumference.\n",
    "\n",
    "Statistical tests (t-tests) confirmed that BMI, glycohaemoglobin, and waist circumference were significantly different between diabetic and non-diabetic individuals, strengthening the evidence for their role in diabetes-related analysis.\n",
    "\n",
    "A Random Forest Classifier trained on the dataset achieved 91% accuracy, with high precision and recall, especially in identifying non-diabetic cases. This demonstrates that machine learning models can effectively predict diabetes status when trained with meaningful health indicators and balanced data."
   ]
  }
 ],
 "metadata": {
  "kernelspec": {
   "display_name": "Python 3 (ipykernel)",
   "language": "python",
   "name": "python3"
  },
  "language_info": {
   "codemirror_mode": {
    "name": "ipython",
    "version": 3
   },
   "file_extension": ".py",
   "mimetype": "text/x-python",
   "name": "python",
   "nbconvert_exporter": "python",
   "pygments_lexer": "ipython3",
   "version": "3.11.7"
  }
 },
 "nbformat": 4,
 "nbformat_minor": 5
}
